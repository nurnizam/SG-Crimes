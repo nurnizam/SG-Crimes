{
 "cells": [
  {
   "cell_type": "code",
   "execution_count": null,
   "metadata": {},
   "outputs": [],
   "source": [
    "import pandas as pd\n",
    "import numpy as pn\n",
    "import panel as pn\n",
    "pn.extension('tabulator')\n",
    "import matplotlib.pyplot as plt     \n",
    "from matplotlib import rcParams\n",
    "import hvplot.pandas\n",
    "import holoviews as hv\n",
    "hv.extension('bokeh','matplotlib')\n",
    "\n",
    "pd.set_option('display.max_columns', None)\n",
    "pd.set_option('display.max_rows', 20)\n",
    "%config InlineBackend.figure_format = 'retina'"
   ]
  },
  {
   "cell_type": "code",
   "execution_count": null,
   "metadata": {},
   "outputs": [],
   "source": [
    "df = pd.read_csv(r\"C:\\Users\\nizam\\OneDrive\\Documents\\Portfolio\\Python Dashboard\\victims-of-selected-major-offences\\victims-of-selected-major-offences-by-age-group.csv\")\n",
    "df.sample(10)"
   ]
  },
  {
   "cell_type": "markdown",
   "metadata": {},
   "source": [
    "### Univariate Statistics"
   ]
  },
  {
   "cell_type": "code",
   "execution_count": null,
   "metadata": {},
   "outputs": [],
   "source": [
    "output_df = pd.DataFrame(columns=['Count', 'Missing', 'Unique', 'Dtype', 'Numeric', 'Mode', 'Mean', 'Min', '25%', 'Median', '75%', 'Max', 'Std', 'Skew', 'Kurt'])\n",
    "\n",
    "for col in df:\n",
    "    if pd.api.types.is_numeric_dtype(df[col]):\n",
    "        output_df.loc[col] = [df[col].count(), df[col].isnull().sum(), df[col].nunique(), df[col].dtype, pd.api.types.is_numeric_dtype(df[col]), df[col].mode().values[0], df[col].mean(), df[col].min(), df[col].quantile(.25), df[col].median(), df[col].quantile(.75), df[col].max(), df[col].std(), df[col].skew(), df[col].kurt()]\n",
    "    else:\n",
    "        output_df.loc[col] = [df[col].count(), df[col].isnull().sum(), df[col].nunique(), df[col].dtype, pd.api.types.is_numeric_dtype(df[col]), df[col].mode().values[0], '-', '-', '-', '-', '-', '-', '-', '-', '-']\n",
    "\n",
    "output_df.sort_values(by=['Numeric', 'Skew', 'Unique'], ascending=False)\n"
   ]
  },
  {
   "cell_type": "markdown",
   "metadata": {},
   "source": [
    "#### Creating Gender Column and Changing Column Data Format"
   ]
  },
  {
   "cell_type": "code",
   "execution_count": null,
   "metadata": {},
   "outputs": [],
   "source": [
    "df['Gender'] = df['level_1'].str.split().str.get(0)\n",
    "df = df[df['Gender'] != 'Total']\n",
    "df"
   ]
  },
  {
   "cell_type": "code",
   "execution_count": null,
   "metadata": {},
   "outputs": [],
   "source": [
    "df['level_1'] = df['level_1'].str.split(n=3).str[3]\n",
    "df"
   ]
  },
  {
   "cell_type": "markdown",
   "metadata": {},
   "source": [
    "#### Rename Columns"
   ]
  },
  {
   "cell_type": "code",
   "execution_count": null,
   "metadata": {},
   "outputs": [],
   "source": [
    "df = df.rename(columns={'level_1' : 'Type of Offence', 'level_2':'Victim Age Group', 'value':'No. of Victims','year':'Year'})\n",
    "df"
   ]
  },
  {
   "cell_type": "markdown",
   "metadata": {},
   "source": [
    "#### Creating interactive dashboard"
   ]
  },
  {
   "cell_type": "code",
   "execution_count": null,
   "metadata": {},
   "outputs": [],
   "source": [
    "idf = df.interactive()"
   ]
  },
  {
   "cell_type": "markdown",
   "metadata": {},
   "source": [
    "#### Creating lists for plots"
   ]
  },
  {
   "cell_type": "code",
   "execution_count": null,
   "metadata": {},
   "outputs": [],
   "source": [
    "offence_list = list(df['Type of Offence'].unique())\n",
    "age_group_list = list(df['Victim Age Group'].unique())\n",
    "gender_list = list(df['Gender'].unique())\n",
    "yearlist = list(df['Year'].unique())"
   ]
  },
  {
   "cell_type": "markdown",
   "metadata": {},
   "source": [
    "### No. of Offences Reported per Year"
   ]
  },
  {
   "cell_type": "code",
   "execution_count": null,
   "metadata": {},
   "outputs": [],
   "source": [
    "# Radio buttons for Gender\n",
    "\n",
    "genderselect = pn.widgets.CheckButtonGroup(name='Gender', value = gender_list, options=gender_list, button_type='success')\n",
    "\n",
    "genderselect"
   ]
  },
  {
   "cell_type": "code",
   "execution_count": null,
   "metadata": {},
   "outputs": [],
   "source": [
    "# Radio buttons for Age Group\n",
    "\n",
    "ageselect = pn.widgets.CheckBoxGroup(name='Victim Age Group', value = age_group_list, options=age_group_list)\n",
    "\n",
    "ageselect"
   ]
  },
  {
   "cell_type": "code",
   "execution_count": null,
   "metadata": {},
   "outputs": [],
   "source": [
    "# Pipeline for Line Plot for Total Offences Reported\n",
    "\n",
    "\n",
    "totaloffence_pipeline = (idf[(idf['Gender'].isin(genderselect)) & idf['Victim Age Group'].isin(ageselect)].groupby(['Year'])['No. of Victims'].sum()\n",
    "                    .to_frame().reset_index().sort_values(by='Year').reset_index(drop=True))"
   ]
  },
  {
   "cell_type": "code",
   "execution_count": null,
   "metadata": {},
   "outputs": [],
   "source": [
    "# Line Plot for Total Offences Reported\n",
    "\n",
    "totaloffenceplot = totaloffence_pipeline.hvplot(x='Year', y='No. of Victims', width=1100, height=400, color=hv.Cycle('Set1'))\n",
    "totaloffenceplot"
   ]
  },
  {
   "cell_type": "markdown",
   "metadata": {},
   "source": [
    "#### No. of Victims by Category"
   ]
  },
  {
   "cell_type": "code",
   "execution_count": null,
   "metadata": {},
   "outputs": [],
   "source": [
    "# Buttons for Years\n",
    "\n",
    "yearselect = pn.widgets.CheckButtonGroup(name='Year', value=yearlist, options=yearlist, button_type='success')\n",
    "\n",
    "yearselect"
   ]
  },
  {
   "cell_type": "code",
   "execution_count": null,
   "metadata": {},
   "outputs": [],
   "source": [
    "offencetypepipeline = (idf[(idf['Year'].isin(yearselect)) & idf['Victim Age Group'].isin(ageselect)]\n",
    "                    .groupby(['Type of Offence','Gender'])['No. of Victims'].sum()\n",
    "                    .to_frame().reset_index().sort_values(by='Type of Offence').reset_index(drop=True))\n",
    "\n",
    "offencetypepipeline"
   ]
  },
  {
   "cell_type": "code",
   "execution_count": null,
   "metadata": {},
   "outputs": [],
   "source": [
    "offenctypeeplot = offencetypepipeline.hvplot(x='Type of Offence', by='Gender', y='No. of Victims', kind='bar', \n",
    "                                            height=400, width=1150, rot=90, color=hv.Cycle('Set1'))\n",
    "\n",
    "offenctypeeplot"
   ]
  },
  {
   "cell_type": "code",
   "execution_count": null,
   "metadata": {},
   "outputs": [],
   "source": [
    "template = pn.template.FastListTemplate(\n",
    "    title=\"Victims of Selected Major Selected Offences (2011 - 2020)\",\n",
    "    sidebar=[pn.pane.Markdown(\"## Victims of Selected Major Offences by Age Group\"),\n",
    "            pn.pane.Markdown('#### Figures are based on Annual Statistical Reports on Crime in Singapore'),\n",
    "            pn.pane.Markdown('#### Select Age Group of Interest:'), ageselect,\n",
    "            pn.pane.Markdown('[Created By: Nizam Sulaiman](https://portfolio.nurnizam.com)')],\n",
    "    main=[pn.Row(pn.Column(genderselect,totaloffenceplot.panel(width=750)),sizing_mode='stretch_width'),\n",
    "            pn.Row(pn.Column(pn.Row(yearselect),(offenctypeeplot.panel(width=750))),sizing_mode='stretch_width'),\n",
    "            pn.Row(\"Source: [Data.gov.sg](https://data.gov.sg/dataset/victims-of-selected-major-selected-offences)\")],\n",
    "            accent_base_color='#88d8b0',\n",
    "            header_background='#88d8b0',\n",
    "            theme_toggle=False\n",
    ")\n",
    "\n",
    "template.show()\n"
   ]
  },
  {
   "cell_type": "code",
   "execution_count": null,
   "metadata": {},
   "outputs": [],
   "source": [
    "# template.servable()"
   ]
  },
  {
   "cell_type": "code",
   "execution_count": null,
   "metadata": {},
   "outputs": [],
   "source": []
  }
 ],
 "metadata": {
  "interpreter": {
   "hash": "892df3604213a0854031afcf71b819314a0f59bbcaa1d23215778c88de7772ed"
  },
  "kernelspec": {
   "display_name": "Python 3.9.7 ('base')",
   "language": "python",
   "name": "python3"
  },
  "language_info": {
   "codemirror_mode": {
    "name": "ipython",
    "version": 3
   },
   "file_extension": ".py",
   "mimetype": "text/x-python",
   "name": "python",
   "nbconvert_exporter": "python",
   "pygments_lexer": "ipython3",
   "version": "3.9.7"
  },
  "orig_nbformat": 4
 },
 "nbformat": 4,
 "nbformat_minor": 2
}
